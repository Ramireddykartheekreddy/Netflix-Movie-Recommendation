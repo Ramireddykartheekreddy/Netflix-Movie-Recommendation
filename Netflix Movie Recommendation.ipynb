{
 "cells": [
  {
   "cell_type": "markdown",
   "metadata": {
    "id": "Z-jZGC0q0aiY"
   },
   "source": [
    "# Eclat"
   ]
  },
  {
   "cell_type": "markdown",
   "metadata": {
    "id": "jE4Rc_OO0eJM"
   },
   "source": [
    "## Importing libraries"
   ]
  },
  {
   "cell_type": "code",
   "execution_count": 1,
   "metadata": {
    "colab": {
     "base_uri": "https://localhost:8080/"
    },
    "executionInfo": {
     "elapsed": 7180,
     "status": "ok",
     "timestamp": 1612781425990,
     "user": {
      "displayName": "Atulya Kaushik",
      "photoUrl": "https://lh3.googleusercontent.com/a-/AOh14GhP3VGC6GCO68p6MvfMEJwKI6tXKFnFeHRKRhmYV-FTikOkHv9lj2FxpjT3gM5RiA3AAs-z1Og5T2KV3O2867PTIOiapWZu7Yae3sHi1FYnHUgUqfa5QKnvDfPMxHsxGkybApckdi2WOyxuFEOiZ3TV2Nfle9hcm40cMcYBrFCV9MAcFX468Ths8cv4Rnw71fy9n9swSvAuDiLKg86nHIENGfqxhcvujispM53lBU39Y5ly14CaA1c8eAmGpXWCeIc9JhdWcI7WNtmKiohJ-KPBnSKn7W_PKLSiVD5HH6haq0iqrsWjtE7YYA0aD1-I9xJx5Mw1HQnEC3gIIYZVF2qHzO2vSB7gCbq9B15ZTLBGq0YA-tRyWHcvhwv8ejTSW4GPNIppu3HYUwJwblmER96wXH9z8caECFyNDkFf93OAzV_JtP7tyxRfGIcVOjO84OhHy5QYW4_xJsnNSmi6IHxOH882xPZxBQmRBy0Ob7dujGbD1BUoZCm_nD8YlDNkKH2vJgVooVsVaiqBeoRQVDnjj9oHmiKSekhzxZqmVwFVAq7BoboglWY4rv4SU6GLg_Q2N7THhKMgU_ADGVCXVH6tMxYHXWhO28zpxDXfYmVvU1jREkijjR8Qu0L9vB08O-DWYDBC-Fwz-MKxNxr2WMqhYWNQs7_7BAZqKOyEPO19IuWl_HkgYx8vcnrAyuRm8SWOg1QBg0qPaoZpR4FToM7OwxXTiLyZpa19WTv51yDcxxf2CnPnr5TfAu-zi7GLadbhgA=s64",
      "userId": "16390917540151948122"
     },
     "user_tz": -330
    },
    "id": "KHWw-m3csxCD",
    "outputId": "ca9aa3f5-327b-490f-c2a8-ab48d370bacd"
   },
   "outputs": [
    {
     "name": "stdout",
     "output_type": "stream",
     "text": [
      "Requirement already satisfied: apyori in c:\\users\\ramir\\anaconda3\\anaconda\\lib\\site-packages (1.1.2)\n"
     ]
    },
    {
     "name": "stderr",
     "output_type": "stream",
     "text": [
      "\n",
      "[notice] A new release of pip is available: 23.0 -> 23.0.1\n",
      "[notice] To update, run: python.exe -m pip install --upgrade pip\n"
     ]
    }
   ],
   "source": [
    "!pip install apyori"
   ]
  },
  {
   "cell_type": "code",
   "execution_count": 2,
   "metadata": {
    "id": "PTBjYh8iyvVK"
   },
   "outputs": [],
   "source": [
    "import numpy as np\n",
    "import matplotlib.pyplot as plt\n",
    "import pandas as pd"
   ]
  },
  {
   "cell_type": "markdown",
   "metadata": {
    "id": "A9-xGHd20gY1"
   },
   "source": [
    "## Importing dataset"
   ]
  },
  {
   "cell_type": "code",
   "execution_count": 4,
   "metadata": {
    "id": "IeX0-BBoyxsw"
   },
   "outputs": [],
   "source": [
    "dataset = pd.read_csv(\"C:\\\\Users\\\\ramir\\\\Downloads\\\\Netflix Movie Recommendation.csv.csv\", header = None)\n",
    "transactions = []\n",
    "for i in range(0, 7466):\n",
    "  transactions.append([str(dataset.values[i,j]) for j in range(0, 20)])"
   ]
  },
  {
   "cell_type": "markdown",
   "metadata": {
    "id": "8REFJFGC0lRN"
   },
   "source": [
    "## Eclat Training on Dataset"
   ]
  },
  {
   "cell_type": "code",
   "execution_count": 5,
   "metadata": {
    "id": "Cs6amFsNy4Ri"
   },
   "outputs": [],
   "source": [
    "from apyori import apriori\n",
    "rules = apriori(transactions = transactions, min_support = 0.003, min_confidence = 0.2, min_lift = 3, min_length = 2, max_length = 2)"
   ]
  },
  {
   "cell_type": "markdown",
   "metadata": {
    "id": "-Dw4Khi70u9g"
   },
   "source": [
    "## Visualizing"
   ]
  },
  {
   "cell_type": "markdown",
   "metadata": {
    "id": "LMakVn8pt7Fk"
   },
   "source": [
    "### Raw Results"
   ]
  },
  {
   "cell_type": "code",
   "execution_count": 6,
   "metadata": {
    "id": "UYvqw6qvy5J4"
   },
   "outputs": [],
   "source": [
    "results = list(rules)"
   ]
  },
  {
   "cell_type": "code",
   "execution_count": 7,
   "metadata": {
    "colab": {
     "base_uri": "https://localhost:8080/"
    },
    "executionInfo": {
     "elapsed": 1007,
     "status": "ok",
     "timestamp": 1612547816457,
     "user": {
      "displayName": "Atulya Kaushik",
      "photoUrl": "https://lh3.googleusercontent.com/a-/AOh14GgmDZYRnVt6jQsnid2LU9n5P31BgdcwHbL7E9qpoft78_PFVDdZ41Rp8I9GrYeS3yU6WJqlNb_JXYCqljjucQX3i0KNnTC_EVSpJf0RremIp1U6t5nuymSJa26WKIGO_qvXrdSnjAIJYUdlIHsq6CtkvJ6i1Epm-czQ7LSEqEtxiqOFqSGsxyO3NHkSNf2P4SyXfBkEC4Asqe8zU1pdZAdezY1tPoEaIFbqmz_LVaN2QALWqfi4BQK-8BaeQd_jC8tzlqRnsiZD-P94JT5F2oYCbGQJMgru2K347PZPPPcNLUkQscnv2Yu670VL2TazhDklO1LAOAPIjG346fOwCjUPIL0kh74CMAy1EIJQSgQa3cymrfld4I893vwp8r09HIF3vaobMZ1AqFxGCMQQAoBwdPEoV2xsMyl0qfDklIutTAu90yBqfLW8GMXQSdPIS0p2ckiFZu70DdmRgrBG2s69mPA6Pbzg_Sau28hAPWKtkzRTeyI7OysSsLbv_Z80rc_wmtwxosT2WN0tW75aLVliSmu9j5yTxnEePoNjgiC7A-lNl7qFUSDfoC1GUqizi_Tik0qnn3cAMZNbk8g189oCOmq98uFHC6tjTNqNmNQJ05HbcHVwRCxMDhrO8fl5UHoFwKVSG7PKLTbCbPUW6VQYNVe7iGwygBoNP1hOWtlt7Jsj9KV2X2nzFi-dQW5oSZmKtUzuVk98VmVgb9KeCL9pNSIeESwcQPg3pCbZ0glbMrSFPdXJ4JmPmzrlSTQ-QcRkpg=s64",
      "userId": "16390917540151948122"
     },
     "user_tz": -330
    },
    "id": "V8jUYqqduM3X",
    "outputId": "b388c5b1-f162-4b33-a56f-38c4412be5a4"
   },
   "outputs": [
    {
     "data": {
      "text/plain": [
       "[RelationRecord(items=frozenset({'Captain America', 'Black Panther'}), support=0.00334851326011251, ordered_statistics=[OrderedStatistic(items_base=frozenset({'Captain America'}), items_add=frozenset({'Black Panther'}), confidence=0.24509803921568626, lift=5.140174047146949)]),\n",
       " RelationRecord(items=frozenset({'Game of thrones', 'Comedy nights with Kapil'}), support=0.0032145727297080095, ordered_statistics=[OrderedStatistic(items_base=frozenset({'Game of thrones'}), items_add=frozenset({'Comedy nights with Kapil'}), confidence=0.20512820512820512, lift=3.1001764766946955)]),\n",
       " RelationRecord(items=frozenset({'Kanan Gill Comedy', 'Comedy nights with Kapil'}), support=0.008036431824270024, ordered_statistics=[OrderedStatistic(items_base=frozenset({'Kanan Gill Comedy'}), items_add=frozenset({'Comedy nights with Kapil'}), confidence=0.2714932126696833, lift=4.103174748566509)]),\n",
       " RelationRecord(items=frozenset({'Game of thrones', 'Prision Break'}), support=0.004553978033753014, ordered_statistics=[OrderedStatistic(items_base=frozenset({'Game of thrones'}), items_add=frozenset({'Prision Break'}), confidence=0.2905982905982906, lift=4.832086498010774)]),\n",
       " RelationRecord(items=frozenset({'Harry Potter 2', 'Harry Potter 1'}), support=0.0057594428073935175, ordered_statistics=[OrderedStatistic(items_base=frozenset({'Harry Potter 1'}), items_add=frozenset({'Harry Potter 2'}), confidence=0.36752136752136755, lift=4.642833383950135)]),\n",
       " RelationRecord(items=frozenset({'Harry Potter 1', 'The Lord of the rings'}), support=0.005089740155371015, ordered_statistics=[OrderedStatistic(items_base=frozenset({'Harry Potter 1'}), items_add=frozenset({'The Lord of the rings'}), confidence=0.3247863247863248, lift=4.523982650848323)]),\n",
       " RelationRecord(items=frozenset({'Harry Potter 2', 'crimes of grindelwald'}), support=0.0057594428073935175, ordered_statistics=[OrderedStatistic(items_base=frozenset({'crimes of grindelwald'}), items_add=frozenset({'Harry Potter 2'}), confidence=0.3006993006993007, lift=3.7986818595955647)]),\n",
       " RelationRecord(items=frozenset({'inception', 'Interstellar'}), support=0.015938923118135547, ordered_statistics=[OrderedStatistic(items_base=frozenset({'Interstellar'}), items_add=frozenset({'inception'}), confidence=0.3216216216216216, lift=3.262536721504113)]),\n",
       " RelationRecord(items=frozenset({'The Wolf of Wall Street', 'inception'}), support=0.005357621216180016, ordered_statistics=[OrderedStatistic(items_base=frozenset({'The Wolf of Wall Street'}), items_add=frozenset({'inception'}), confidence=0.3773584905660377, lift=3.8279327317473335)])]"
      ]
     },
     "execution_count": 7,
     "metadata": {},
     "output_type": "execute_result"
    }
   ],
   "source": [
    "results"
   ]
  },
  {
   "cell_type": "markdown",
   "metadata": {
    "id": "0Ir6DPsdumvX"
   },
   "source": [
    "### Proper Display"
   ]
  },
  {
   "cell_type": "code",
   "execution_count": 8,
   "metadata": {
    "id": "r6WHhsQLuqXc"
   },
   "outputs": [],
   "source": [
    "def inspect(results):\n",
    "    movie_1         = [tuple(result[2][0][0])[0] for result in results]\n",
    "    movie_2         = [tuple(result[2][0][1])[0] for result in results]\n",
    "    supports    = [result[1] for result in results]\n",
    "    return list(zip(movie_1, movie_2, supports))\n",
    "resultsinDataFrame = pd.DataFrame(inspect(results), columns = ['Movie 1', 'Movie 2', 'Support'])"
   ]
  },
  {
   "cell_type": "code",
   "execution_count": 9,
   "metadata": {
    "colab": {
     "base_uri": "https://localhost:8080/",
     "height": 328
    },
    "executionInfo": {
     "elapsed": 1283,
     "status": "ok",
     "timestamp": 1612547839135,
     "user": {
      "displayName": "Atulya Kaushik",
      "photoUrl": "https://lh3.googleusercontent.com/a-/AOh14GgmDZYRnVt6jQsnid2LU9n5P31BgdcwHbL7E9qpoft78_PFVDdZ41Rp8I9GrYeS3yU6WJqlNb_JXYCqljjucQX3i0KNnTC_EVSpJf0RremIp1U6t5nuymSJa26WKIGO_qvXrdSnjAIJYUdlIHsq6CtkvJ6i1Epm-czQ7LSEqEtxiqOFqSGsxyO3NHkSNf2P4SyXfBkEC4Asqe8zU1pdZAdezY1tPoEaIFbqmz_LVaN2QALWqfi4BQK-8BaeQd_jC8tzlqRnsiZD-P94JT5F2oYCbGQJMgru2K347PZPPPcNLUkQscnv2Yu670VL2TazhDklO1LAOAPIjG346fOwCjUPIL0kh74CMAy1EIJQSgQa3cymrfld4I893vwp8r09HIF3vaobMZ1AqFxGCMQQAoBwdPEoV2xsMyl0qfDklIutTAu90yBqfLW8GMXQSdPIS0p2ckiFZu70DdmRgrBG2s69mPA6Pbzg_Sau28hAPWKtkzRTeyI7OysSsLbv_Z80rc_wmtwxosT2WN0tW75aLVliSmu9j5yTxnEePoNjgiC7A-lNl7qFUSDfoC1GUqizi_Tik0qnn3cAMZNbk8g189oCOmq98uFHC6tjTNqNmNQJ05HbcHVwRCxMDhrO8fl5UHoFwKVSG7PKLTbCbPUW6VQYNVe7iGwygBoNP1hOWtlt7Jsj9KV2X2nzFi-dQW5oSZmKtUzuVk98VmVgb9KeCL9pNSIeESwcQPg3pCbZ0glbMrSFPdXJ4JmPmzrlSTQ-QcRkpg=s64",
      "userId": "16390917540151948122"
     },
     "user_tz": -330
    },
    "id": "9aj8wZy5uumr",
    "outputId": "10d564e8-f7f6-4c35-9777-dead60e02b25"
   },
   "outputs": [
    {
     "data": {
      "text/html": [
       "<div>\n",
       "<style scoped>\n",
       "    .dataframe tbody tr th:only-of-type {\n",
       "        vertical-align: middle;\n",
       "    }\n",
       "\n",
       "    .dataframe tbody tr th {\n",
       "        vertical-align: top;\n",
       "    }\n",
       "\n",
       "    .dataframe thead th {\n",
       "        text-align: right;\n",
       "    }\n",
       "</style>\n",
       "<table border=\"1\" class=\"dataframe\">\n",
       "  <thead>\n",
       "    <tr style=\"text-align: right;\">\n",
       "      <th></th>\n",
       "      <th>Movie 1</th>\n",
       "      <th>Movie 2</th>\n",
       "      <th>Support</th>\n",
       "    </tr>\n",
       "  </thead>\n",
       "  <tbody>\n",
       "    <tr>\n",
       "      <th>0</th>\n",
       "      <td>Captain America</td>\n",
       "      <td>Black Panther</td>\n",
       "      <td>0.003349</td>\n",
       "    </tr>\n",
       "    <tr>\n",
       "      <th>1</th>\n",
       "      <td>Game of thrones</td>\n",
       "      <td>Comedy nights with Kapil</td>\n",
       "      <td>0.003215</td>\n",
       "    </tr>\n",
       "    <tr>\n",
       "      <th>2</th>\n",
       "      <td>Kanan Gill Comedy</td>\n",
       "      <td>Comedy nights with Kapil</td>\n",
       "      <td>0.008036</td>\n",
       "    </tr>\n",
       "    <tr>\n",
       "      <th>3</th>\n",
       "      <td>Game of thrones</td>\n",
       "      <td>Prision Break</td>\n",
       "      <td>0.004554</td>\n",
       "    </tr>\n",
       "    <tr>\n",
       "      <th>4</th>\n",
       "      <td>Harry Potter 1</td>\n",
       "      <td>Harry Potter 2</td>\n",
       "      <td>0.005759</td>\n",
       "    </tr>\n",
       "    <tr>\n",
       "      <th>5</th>\n",
       "      <td>Harry Potter 1</td>\n",
       "      <td>The Lord of the rings</td>\n",
       "      <td>0.005090</td>\n",
       "    </tr>\n",
       "    <tr>\n",
       "      <th>6</th>\n",
       "      <td>crimes of grindelwald</td>\n",
       "      <td>Harry Potter 2</td>\n",
       "      <td>0.005759</td>\n",
       "    </tr>\n",
       "    <tr>\n",
       "      <th>7</th>\n",
       "      <td>Interstellar</td>\n",
       "      <td>inception</td>\n",
       "      <td>0.015939</td>\n",
       "    </tr>\n",
       "    <tr>\n",
       "      <th>8</th>\n",
       "      <td>The Wolf of Wall Street</td>\n",
       "      <td>inception</td>\n",
       "      <td>0.005358</td>\n",
       "    </tr>\n",
       "  </tbody>\n",
       "</table>\n",
       "</div>"
      ],
      "text/plain": [
       "                   Movie 1                   Movie 2   Support\n",
       "0          Captain America             Black Panther  0.003349\n",
       "1          Game of thrones  Comedy nights with Kapil  0.003215\n",
       "2        Kanan Gill Comedy  Comedy nights with Kapil  0.008036\n",
       "3          Game of thrones             Prision Break  0.004554\n",
       "4           Harry Potter 1            Harry Potter 2  0.005759\n",
       "5           Harry Potter 1     The Lord of the rings  0.005090\n",
       "6    crimes of grindelwald            Harry Potter 2  0.005759\n",
       "7             Interstellar                 inception  0.015939\n",
       "8  The Wolf of Wall Street                 inception  0.005358"
      ]
     },
     "execution_count": 9,
     "metadata": {},
     "output_type": "execute_result"
    }
   ],
   "source": [
    "resultsinDataFrame"
   ]
  },
  {
   "cell_type": "code",
   "execution_count": 10,
   "metadata": {
    "colab": {
     "base_uri": "https://localhost:8080/",
     "height": 328
    },
    "executionInfo": {
     "elapsed": 1090,
     "status": "ok",
     "timestamp": 1612547860235,
     "user": {
      "displayName": "Atulya Kaushik",
      "photoUrl": "https://lh3.googleusercontent.com/a-/AOh14GgmDZYRnVt6jQsnid2LU9n5P31BgdcwHbL7E9qpoft78_PFVDdZ41Rp8I9GrYeS3yU6WJqlNb_JXYCqljjucQX3i0KNnTC_EVSpJf0RremIp1U6t5nuymSJa26WKIGO_qvXrdSnjAIJYUdlIHsq6CtkvJ6i1Epm-czQ7LSEqEtxiqOFqSGsxyO3NHkSNf2P4SyXfBkEC4Asqe8zU1pdZAdezY1tPoEaIFbqmz_LVaN2QALWqfi4BQK-8BaeQd_jC8tzlqRnsiZD-P94JT5F2oYCbGQJMgru2K347PZPPPcNLUkQscnv2Yu670VL2TazhDklO1LAOAPIjG346fOwCjUPIL0kh74CMAy1EIJQSgQa3cymrfld4I893vwp8r09HIF3vaobMZ1AqFxGCMQQAoBwdPEoV2xsMyl0qfDklIutTAu90yBqfLW8GMXQSdPIS0p2ckiFZu70DdmRgrBG2s69mPA6Pbzg_Sau28hAPWKtkzRTeyI7OysSsLbv_Z80rc_wmtwxosT2WN0tW75aLVliSmu9j5yTxnEePoNjgiC7A-lNl7qFUSDfoC1GUqizi_Tik0qnn3cAMZNbk8g189oCOmq98uFHC6tjTNqNmNQJ05HbcHVwRCxMDhrO8fl5UHoFwKVSG7PKLTbCbPUW6VQYNVe7iGwygBoNP1hOWtlt7Jsj9KV2X2nzFi-dQW5oSZmKtUzuVk98VmVgb9KeCL9pNSIeESwcQPg3pCbZ0glbMrSFPdXJ4JmPmzrlSTQ-QcRkpg=s64",
      "userId": "16390917540151948122"
     },
     "user_tz": -330
    },
    "id": "VkM6Mt6ouzxh",
    "outputId": "165cda61-d1b2-49be-a6d9-b5c677159b41"
   },
   "outputs": [
    {
     "data": {
      "text/html": [
       "<div>\n",
       "<style scoped>\n",
       "    .dataframe tbody tr th:only-of-type {\n",
       "        vertical-align: middle;\n",
       "    }\n",
       "\n",
       "    .dataframe tbody tr th {\n",
       "        vertical-align: top;\n",
       "    }\n",
       "\n",
       "    .dataframe thead th {\n",
       "        text-align: right;\n",
       "    }\n",
       "</style>\n",
       "<table border=\"1\" class=\"dataframe\">\n",
       "  <thead>\n",
       "    <tr style=\"text-align: right;\">\n",
       "      <th></th>\n",
       "      <th>Movie 1</th>\n",
       "      <th>Movie 2</th>\n",
       "      <th>Support</th>\n",
       "    </tr>\n",
       "  </thead>\n",
       "  <tbody>\n",
       "    <tr>\n",
       "      <th>7</th>\n",
       "      <td>Interstellar</td>\n",
       "      <td>inception</td>\n",
       "      <td>0.015939</td>\n",
       "    </tr>\n",
       "    <tr>\n",
       "      <th>2</th>\n",
       "      <td>Kanan Gill Comedy</td>\n",
       "      <td>Comedy nights with Kapil</td>\n",
       "      <td>0.008036</td>\n",
       "    </tr>\n",
       "    <tr>\n",
       "      <th>4</th>\n",
       "      <td>Harry Potter 1</td>\n",
       "      <td>Harry Potter 2</td>\n",
       "      <td>0.005759</td>\n",
       "    </tr>\n",
       "    <tr>\n",
       "      <th>6</th>\n",
       "      <td>crimes of grindelwald</td>\n",
       "      <td>Harry Potter 2</td>\n",
       "      <td>0.005759</td>\n",
       "    </tr>\n",
       "    <tr>\n",
       "      <th>8</th>\n",
       "      <td>The Wolf of Wall Street</td>\n",
       "      <td>inception</td>\n",
       "      <td>0.005358</td>\n",
       "    </tr>\n",
       "    <tr>\n",
       "      <th>5</th>\n",
       "      <td>Harry Potter 1</td>\n",
       "      <td>The Lord of the rings</td>\n",
       "      <td>0.005090</td>\n",
       "    </tr>\n",
       "    <tr>\n",
       "      <th>3</th>\n",
       "      <td>Game of thrones</td>\n",
       "      <td>Prision Break</td>\n",
       "      <td>0.004554</td>\n",
       "    </tr>\n",
       "    <tr>\n",
       "      <th>0</th>\n",
       "      <td>Captain America</td>\n",
       "      <td>Black Panther</td>\n",
       "      <td>0.003349</td>\n",
       "    </tr>\n",
       "    <tr>\n",
       "      <th>1</th>\n",
       "      <td>Game of thrones</td>\n",
       "      <td>Comedy nights with Kapil</td>\n",
       "      <td>0.003215</td>\n",
       "    </tr>\n",
       "  </tbody>\n",
       "</table>\n",
       "</div>"
      ],
      "text/plain": [
       "                   Movie 1                   Movie 2   Support\n",
       "7             Interstellar                 inception  0.015939\n",
       "2        Kanan Gill Comedy  Comedy nights with Kapil  0.008036\n",
       "4           Harry Potter 1            Harry Potter 2  0.005759\n",
       "6    crimes of grindelwald            Harry Potter 2  0.005759\n",
       "8  The Wolf of Wall Street                 inception  0.005358\n",
       "5           Harry Potter 1     The Lord of the rings  0.005090\n",
       "3          Game of thrones             Prision Break  0.004554\n",
       "0          Captain America             Black Panther  0.003349\n",
       "1          Game of thrones  Comedy nights with Kapil  0.003215"
      ]
     },
     "execution_count": 10,
     "metadata": {},
     "output_type": "execute_result"
    }
   ],
   "source": [
    "resultsinDataFrame.nlargest(n = 10, columns = 'Support')"
   ]
  }
 ],
 "metadata": {
  "colab": {
   "authorship_tag": "ABX9TyMnNOaO7hd9gxRT0zgH7jTY",
   "name": "Eclat Association Rule Learning Working Copy.ipynb",
   "provenance": [],
   "toc_visible": true
  },
  "kernelspec": {
   "display_name": "Python 3",
   "language": "python",
   "name": "python3"
  },
  "language_info": {
   "codemirror_mode": {
    "name": "ipython",
    "version": 3
   },
   "file_extension": ".py",
   "mimetype": "text/x-python",
   "name": "python",
   "nbconvert_exporter": "python",
   "pygments_lexer": "ipython3",
   "version": "3.9.13"
  }
 },
 "nbformat": 4,
 "nbformat_minor": 1
}
